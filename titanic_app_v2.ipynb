{
 "cells": [
  {
   "cell_type": "code",
   "execution_count": 1,
   "metadata": {},
   "outputs": [
    {
     "name": "stderr",
     "output_type": "stream",
     "text": [
      "/home/bbennett/anaconda3/envs/analytics/lib/python3.6/site-packages/sklearn/cross_validation.py:41: DeprecationWarning: This module was deprecated in version 0.18 in favor of the model_selection module into which all the refactored classes and functions are moved. Also note that the interface of the new CV iterators are different from that of this module. This module will be removed in 0.20.\n",
      "  \"This module will be removed in 0.20.\", DeprecationWarning)\n"
     ]
    }
   ],
   "source": [
    "%matplotlib inline\n",
    "import pandas as pd\n",
    "import numpy as np\n",
    "from time import time\n",
    "import xgboost\n",
    "from matplotlib import pyplot\n",
    "import graphviz\n",
    "\n",
    "from sklearn.preprocessing import RobustScaler, Imputer, StandardScaler\n",
    "from sklearn.pipeline import Pipeline\n",
    "from sklearn.linear_model import LogisticRegression\n",
    "from sklearn.ensemble import RandomForestClassifier\n",
    "from sklearn.model_selection import train_test_split, GridSearchCV, RandomizedSearchCV\n",
    "from sklearn.metrics import classification_report, accuracy_score\n",
    "from sklearn import metrics"
   ]
  },
  {
   "cell_type": "code",
   "execution_count": 2,
   "metadata": {
    "collapsed": true
   },
   "outputs": [],
   "source": [
    "train = pd.read_csv('train.csv')\n",
    "test = pd.read_csv('test.csv')\n",
    "\n",
    "ids = test['PassengerId']"
   ]
  },
  {
   "cell_type": "code",
   "execution_count": 3,
   "metadata": {
    "collapsed": true
   },
   "outputs": [],
   "source": [
    "train = train.drop(['Ticket','Cabin', 'PassengerId', 'Name'], axis=1)\n",
    "test = test.drop(['Ticket','Cabin', 'PassengerId', 'Name'], axis=1)\n",
    "\n",
    "train['sex_f'] = np.where(train['Sex'] == 'female', 1, 0)\n",
    "test['sex_f'] = np.where(test['Sex'] == 'female', 1, 0)"
   ]
  },
  {
   "cell_type": "code",
   "execution_count": 4,
   "metadata": {
    "collapsed": true
   },
   "outputs": [],
   "source": [
    "embarked_dum = pd.get_dummies(train['Embarked'], prefix='Embarked')\n",
    "embarked_dum2 = pd.get_dummies(test['Embarked'], prefix='Embarked')"
   ]
  },
  {
   "cell_type": "code",
   "execution_count": 5,
   "metadata": {
    "collapsed": true
   },
   "outputs": [],
   "source": [
    "train = train.drop(['Embarked','Sex'], axis=1)\n",
    "test = test.drop(['Embarked','Sex'], axis=1)"
   ]
  },
  {
   "cell_type": "code",
   "execution_count": 6,
   "metadata": {
    "collapsed": true
   },
   "outputs": [],
   "source": [
    "train = pd.concat([train, embarked_dum], axis=1)\n",
    "test = pd.concat([test, embarked_dum2], axis=1)"
   ]
  },
  {
   "cell_type": "code",
   "execution_count": 7,
   "metadata": {
    "collapsed": true
   },
   "outputs": [],
   "source": [
    "X = train[[c for c in train if 'Survived' not in c]]\n",
    "y = train['Survived']\n",
    "\n",
    "X_train, X_test, y_train, y_test = train_test_split(X, y, test_size=0.2, random_state=36)"
   ]
  },
  {
   "cell_type": "code",
   "execution_count": 8,
   "metadata": {
    "collapsed": true
   },
   "outputs": [],
   "source": [
    "preprocessing = Pipeline([\n",
    "    ('impute', Imputer(missing_values='NaN', strategy='mean', axis=0)),\n",
    "    ('scale', StandardScaler())\n",
    "])\n"
   ]
  },
  {
   "cell_type": "code",
   "execution_count": 9,
   "metadata": {
    "collapsed": true
   },
   "outputs": [],
   "source": [
    "X_train_sc = preprocessing.fit_transform(X_train)\n",
    "X_test_sc = preprocessing.transform(X_test)\n",
    "test = preprocessing.transform(test)"
   ]
  },
  {
   "cell_type": "code",
   "execution_count": 10,
   "metadata": {},
   "outputs": [
    {
     "data": {
      "text/plain": [
       "0.84916201117318435"
      ]
     },
     "execution_count": 10,
     "metadata": {},
     "output_type": "execute_result"
    }
   ],
   "source": [
    "model = xgboost.XGBClassifier(learning_rate=10,\n",
    "                              seed=1,\n",
    "                              nthread=4,\n",
    "                              n_estimators=1\n",
    "                             )\n",
    "model.fit(X_train_sc, y_train)\n",
    "model.score(X_test_sc, y_test)"
   ]
  },
  {
   "cell_type": "code",
   "execution_count": 11,
   "metadata": {},
   "outputs": [
    {
     "data": {
      "text/plain": [
       "<bound method Axes.plot of <matplotlib.axes._subplots.AxesSubplot object at 0x7fcab8460ac8>>"
      ]
     },
     "execution_count": 11,
     "metadata": {},
     "output_type": "execute_result"
    },
    {
     "data": {
      "image/png": "[encoded data removed]",
      "text/plain": [
       "<matplotlib.figure.Figure at 0x7fcab81cd588>"
      ]
     },
     "metadata": {},
     "output_type": "display_data"
    }
   ],
   "source": [
    "xgboost.plot_importance(booster=model).plot"
   ]
  },
  {
   "cell_type": "code",
   "execution_count": 12,
   "metadata": {
    "scrolled": false
   },
   "outputs": [
    {
     "data": {
      "text/plain": [
       "<matplotlib.axes._subplots.AxesSubplot at 0x7fcab41f44a8>"
      ]
     },
     "execution_count": 12,
     "metadata": {},
     "output_type": "execute_result"
    },
    {
     "data": {
      "image/png": "[encoded data removed]",
      "text/plain": [
       "<matplotlib.figure.Figure at 0x7fcab42570f0>"
      ]
     },
     "metadata": {},
     "output_type": "display_data"
    }
   ],
   "source": [
    "xgboost.plot_tree(booster=model)"
   ]
  },
  {
   "cell_type": "code",
   "execution_count": 13,
   "metadata": {
    "scrolled": false
   },
   "outputs": [
    {
     "data": {
      "image/svg+xml": [
       "<?xml version=\"1.0\" encoding=\"UTF-8\" standalone=\"no\"?>\n",
       "<!DOCTYPE svg PUBLIC \"-//W3C//DTD SVG 1.1//EN\"\n",
       " \"http://www.w3.org/Graphics/SVG/1.1/DTD/svg11.dtd\">\n",
       "<!-- Generated by graphviz version 2.38.0 (20140413.2041)\n",
       " -->\n",
       "<!-- Title: %3 Pages: 1 -->\n",
       "<svg width=\"673pt\" height=\"543pt\"\n",
       " viewBox=\"0.00 0.00 672.50 542.77\" xmlns=\"http://www.w3.org/2000/svg\" xmlns:xlink=\"http://www.w3.org/1999/xlink\">\n",
       "<g id=\"graph0\" class=\"graph\" transform=\"scale(1 1) rotate(0) translate(4 538.769)\">\n",
       "<title>%3</title>\n",
       "<polygon fill=\"white\" stroke=\"none\" points=\"-4,4 -4,-538.769 668.5,-538.769 668.5,4 -4,4\"/>\n",
       "<!-- 0 -->\n",
       "<g id=\"node1\" class=\"node\"><title>0</title>\n",
       "<ellipse fill=\"none\" stroke=\"black\" cx=\"341.5\" cy=\"-478.224\" rx=\"56.59\" ry=\"56.59\"/>\n",
       "<text text-anchor=\"middle\" x=\"341.5\" y=\"-474.524\" font-family=\"Times,serif\" font-size=\"14.00\">f5&lt;0.334726</text>\n",
       "</g>\n",
       "<!-- 1 -->\n",
       "<g id=\"node2\" class=\"node\"><title>1</title>\n",
       "<ellipse fill=\"none\" stroke=\"black\" cx=\"272.5\" cy=\"-314.134\" rx=\"55.4913\" ry=\"55.4913\"/>\n",
       "<text text-anchor=\"middle\" x=\"272.5\" y=\"-310.434\" font-family=\"Times,serif\" font-size=\"14.00\">f1&lt;&#45;1.65052</text>\n",
       "</g>\n",
       "<!-- 0&#45;&gt;1 -->\n",
       "<g id=\"edge1\" class=\"edge\"><title>0&#45;&gt;1</title>\n",
       "<path fill=\"none\" stroke=\"#0000ff\" d=\"M310.965,-430.326C306.052,-421.672 301.33,-412.56 297.5,-403.679 294.007,-395.58 290.858,-386.855 288.067,-378.151\"/>\n",
       "<polygon fill=\"#0000ff\" stroke=\"#0000ff\" points=\"291.345,-376.903 285.068,-368.368 284.652,-378.955 291.345,-376.903\"/>\n",
       "<text text-anchor=\"middle\" x=\"332\" y=\"-392.479\" font-family=\"Times,serif\" font-size=\"14.00\">yes, missing</text>\n",
       "</g>\n",
       "<!-- 2 -->\n",
       "<g id=\"node3\" class=\"node\"><title>2</title>\n",
       "<ellipse fill=\"none\" stroke=\"black\" cx=\"402.5\" cy=\"-314.134\" rx=\"56.59\" ry=\"56.59\"/>\n",
       "<text text-anchor=\"middle\" x=\"402.5\" y=\"-310.434\" font-family=\"Times,serif\" font-size=\"14.00\">f0&lt;0.240988</text>\n",
       "</g>\n",
       "<!-- 0&#45;&gt;2 -->\n",
       "<g id=\"edge2\" class=\"edge\"><title>0&#45;&gt;2</title>\n",
       "<path fill=\"none\" stroke=\"#ff0000\" d=\"M361.137,-425.046C366.905,-409.718 373.27,-392.805 379.242,-376.937\"/>\n",
       "<polygon fill=\"#ff0000\" stroke=\"#ff0000\" points=\"382.654,-377.807 382.9,-367.215 376.102,-375.342 382.654,-377.807\"/>\n",
       "<text text-anchor=\"middle\" x=\"381.5\" y=\"-392.479\" font-family=\"Times,serif\" font-size=\"14.00\">no</text>\n",
       "</g>\n",
       "<!-- 3 -->\n",
       "<g id=\"node4\" class=\"node\"><title>3</title>\n",
       "<ellipse fill=\"none\" stroke=\"black\" cx=\"145.5\" cy=\"-146.795\" rx=\"51.9908\" ry=\"51.9908\"/>\n",
       "<text text-anchor=\"middle\" x=\"145.5\" y=\"-143.095\" font-family=\"Times,serif\" font-size=\"14.00\">f2&lt;1.88312</text>\n",
       "</g>\n",
       "<!-- 1&#45;&gt;3 -->\n",
       "<g id=\"edge3\" class=\"edge\"><title>1&#45;&gt;3</title>\n",
       "<path fill=\"none\" stroke=\"#0000ff\" d=\"M232.868,-275.273C222.163,-264.216 210.94,-251.808 201.5,-239.589 192.412,-227.826 183.56,-214.5 175.676,-201.722\"/>\n",
       "<polygon fill=\"#0000ff\" stroke=\"#0000ff\" points=\"178.559,-199.725 170.382,-192.988 172.573,-203.354 178.559,-199.725\"/>\n",
       "<text text-anchor=\"middle\" x=\"236\" y=\"-228.389\" font-family=\"Times,serif\" font-size=\"14.00\">yes, missing</text>\n",
       "</g>\n",
       "<!-- 4 -->\n",
       "<g id=\"node5\" class=\"node\"><title>4</title>\n",
       "<ellipse fill=\"none\" stroke=\"black\" cx=\"275.5\" cy=\"-146.795\" rx=\"59.5901\" ry=\"59.5901\"/>\n",
       "<text text-anchor=\"middle\" x=\"275.5\" y=\"-143.095\" font-family=\"Times,serif\" font-size=\"14.00\">f0&lt;&#45;0.942345</text>\n",
       "</g>\n",
       "<!-- 1&#45;&gt;4 -->\n",
       "<g id=\"edge4\" class=\"edge\"><title>1&#45;&gt;4</title>\n",
       "<path fill=\"none\" stroke=\"#ff0000\" d=\"M273.491,-258.538C273.734,-245.141 273.997,-230.627 274.251,-216.655\"/>\n",
       "<polygon fill=\"#ff0000\" stroke=\"#ff0000\" points=\"277.751,-216.663 274.433,-206.601 270.752,-216.536 277.751,-216.663\"/>\n",
       "<text text-anchor=\"middle\" x=\"281.5\" y=\"-228.389\" font-family=\"Times,serif\" font-size=\"14.00\">no</text>\n",
       "</g>\n",
       "<!-- 5 -->\n",
       "<g id=\"node10\" class=\"node\"><title>5</title>\n",
       "<polygon fill=\"none\" stroke=\"black\" points=\"446,-164.795 357,-164.795 357,-128.795 446,-128.795 446,-164.795\"/>\n",
       "<text text-anchor=\"middle\" x=\"401.5\" y=\"-143.095\" font-family=\"Times,serif\" font-size=\"14.00\">leaf=17.6119</text>\n",
       "</g>\n",
       "<!-- 2&#45;&gt;5 -->\n",
       "<g id=\"edge9\" class=\"edge\"><title>2&#45;&gt;5</title>\n",
       "<path fill=\"none\" stroke=\"#0000ff\" d=\"M402.161,-257.158C401.994,-229.463 401.799,-197.29 401.665,-175.043\"/>\n",
       "<polygon fill=\"#0000ff\" stroke=\"#0000ff\" points=\"405.164,-174.961 401.604,-164.982 398.165,-175.003 405.164,-174.961\"/>\n",
       "<text text-anchor=\"middle\" x=\"437\" y=\"-228.389\" font-family=\"Times,serif\" font-size=\"14.00\">yes, missing</text>\n",
       "</g>\n",
       "<!-- 6 -->\n",
       "<g id=\"node11\" class=\"node\"><title>6</title>\n",
       "<ellipse fill=\"none\" stroke=\"black\" cx=\"523.5\" cy=\"-146.795\" rx=\"59.5901\" ry=\"59.5901\"/>\n",
       "<text text-anchor=\"middle\" x=\"523.5\" y=\"-143.095\" font-family=\"Times,serif\" font-size=\"14.00\">f4&lt;&#45;0.183886</text>\n",
       "</g>\n",
       "<!-- 2&#45;&gt;6 -->\n",
       "<g id=\"edge10\" class=\"edge\"><title>2&#45;&gt;6</title>\n",
       "<path fill=\"none\" stroke=\"#ff0000\" d=\"M444.233,-275.43C455.127,-264.472 466.363,-252.075 475.5,-239.589 482.154,-230.497 488.425,-220.358 494.103,-210.228\"/>\n",
       "<polygon fill=\"#ff0000\" stroke=\"#ff0000\" points=\"497.226,-211.811 498.935,-201.355 491.079,-208.464 497.226,-211.811\"/>\n",
       "<text text-anchor=\"middle\" x=\"492.5\" y=\"-228.389\" font-family=\"Times,serif\" font-size=\"14.00\">no</text>\n",
       "</g>\n",
       "<!-- 7 -->\n",
       "<g id=\"node6\" class=\"node\"><title>7</title>\n",
       "<polygon fill=\"none\" stroke=\"black\" points=\"89,-36 7.10543e-15,-36 7.10543e-15,-0 89,-0 89,-36\"/>\n",
       "<text text-anchor=\"middle\" x=\"44.5\" y=\"-14.3\" font-family=\"Times,serif\" font-size=\"14.00\">leaf=15.2941</text>\n",
       "</g>\n",
       "<!-- 3&#45;&gt;7 -->\n",
       "<g id=\"edge5\" class=\"edge\"><title>3&#45;&gt;7</title>\n",
       "<path fill=\"none\" stroke=\"#0000ff\" d=\"M110.829,-107.884C100.145,-95.7234 88.5534,-82.0266 78.5,-69 72.5354,-61.2714 66.4174,-52.5595 61.0445,-44.5986\"/>\n",
       "<polygon fill=\"#0000ff\" stroke=\"#0000ff\" points=\"63.7939,-42.4122 55.343,-36.0221 57.9645,-46.2875 63.7939,-42.4122\"/>\n",
       "<text text-anchor=\"middle\" x=\"113\" y=\"-57.8\" font-family=\"Times,serif\" font-size=\"14.00\">yes, missing</text>\n",
       "</g>\n",
       "<!-- 8 -->\n",
       "<g id=\"node7\" class=\"node\"><title>8</title>\n",
       "<polygon fill=\"none\" stroke=\"black\" points=\"201.5,-36 107.5,-36 107.5,-0 201.5,-0 201.5,-36\"/>\n",
       "<text text-anchor=\"middle\" x=\"154.5\" y=\"-14.3\" font-family=\"Times,serif\" font-size=\"14.00\">leaf=&#45;9.09091</text>\n",
       "</g>\n",
       "<!-- 3&#45;&gt;8 -->\n",
       "<g id=\"edge6\" class=\"edge\"><title>3&#45;&gt;8</title>\n",
       "<path fill=\"none\" stroke=\"#ff0000\" d=\"M149.135,-94.5879C150.309,-78.0474 151.564,-60.3564 152.566,-46.2507\"/>\n",
       "<polygon fill=\"#ff0000\" stroke=\"#ff0000\" points=\"156.059,-46.4641 153.276,-36.2413 149.077,-45.9684 156.059,-46.4641\"/>\n",
       "<text text-anchor=\"middle\" x=\"159.5\" y=\"-57.8\" font-family=\"Times,serif\" font-size=\"14.00\">no</text>\n",
       "</g>\n",
       "<!-- 9 -->\n",
       "<g id=\"node8\" class=\"node\"><title>9</title>\n",
       "<polygon fill=\"none\" stroke=\"black\" points=\"317.5,-36 223.5,-36 223.5,-0 317.5,-0 317.5,-36\"/>\n",
       "<text text-anchor=\"middle\" x=\"270.5\" y=\"-14.3\" font-family=\"Times,serif\" font-size=\"14.00\">leaf=&#45;5.52381</text>\n",
       "</g>\n",
       "<!-- 4&#45;&gt;9 -->\n",
       "<g id=\"edge7\" class=\"edge\"><title>4&#45;&gt;9</title>\n",
       "<path fill=\"none\" stroke=\"#0000ff\" d=\"M273.176,-86.8517C272.617,-72.6907 272.047,-58.2319 271.577,-46.3201\"/>\n",
       "<polygon fill=\"#0000ff\" stroke=\"#0000ff\" points=\"275.069,-46.0327 271.177,-36.1784 268.074,-46.3086 275.069,-46.0327\"/>\n",
       "<text text-anchor=\"middle\" x=\"307\" y=\"-57.8\" font-family=\"Times,serif\" font-size=\"14.00\">yes, missing</text>\n",
       "</g>\n",
       "<!-- 10 -->\n",
       "<g id=\"node9\" class=\"node\"><title>10</title>\n",
       "<polygon fill=\"none\" stroke=\"black\" points=\"429.5,-36 335.5,-36 335.5,-0 429.5,-0 429.5,-36\"/>\n",
       "<text text-anchor=\"middle\" x=\"382.5\" y=\"-14.3\" font-family=\"Times,serif\" font-size=\"14.00\">leaf=&#45;15.1136</text>\n",
       "</g>\n",
       "<!-- 4&#45;&gt;10 -->\n",
       "<g id=\"edge8\" class=\"edge\"><title>4&#45;&gt;10</title>\n",
       "<path fill=\"none\" stroke=\"#ff0000\" d=\"M316.268,-102.619C326.062,-91.828 336.335,-80.148 345.5,-69 351.846,-61.2815 358.438,-52.6103 364.27,-44.6837\"/>\n",
       "<polygon fill=\"#ff0000\" stroke=\"#ff0000\" points=\"367.203,-46.6016 370.251,-36.4549 361.541,-42.4857 367.203,-46.6016\"/>\n",
       "<text text-anchor=\"middle\" x=\"364.5\" y=\"-57.8\" font-family=\"Times,serif\" font-size=\"14.00\">no</text>\n",
       "</g>\n",
       "<!-- 11 -->\n",
       "<g id=\"node12\" class=\"node\"><title>11</title>\n",
       "<polygon fill=\"none\" stroke=\"black\" points=\"552,-36 463,-36 463,-0 552,-0 552,-36\"/>\n",
       "<text text-anchor=\"middle\" x=\"507.5\" y=\"-14.3\" font-family=\"Times,serif\" font-size=\"14.00\">leaf=2.36559</text>\n",
       "</g>\n",
       "<!-- 6&#45;&gt;11 -->\n",
       "<g id=\"edge11\" class=\"edge\"><title>6&#45;&gt;11</title>\n",
       "<path fill=\"none\" stroke=\"#0000ff\" d=\"M516.109,-87.2223C514.303,-72.9146 512.456,-58.2772 510.938,-46.2478\"/>\n",
       "<polygon fill=\"#0000ff\" stroke=\"#0000ff\" points=\"514.372,-45.5009 509.647,-36.0178 507.427,-46.3774 514.372,-45.5009\"/>\n",
       "<text text-anchor=\"middle\" x=\"549\" y=\"-57.8\" font-family=\"Times,serif\" font-size=\"14.00\">yes, missing</text>\n",
       "</g>\n",
       "<!-- 12 -->\n",
       "<g id=\"node13\" class=\"node\"><title>12</title>\n",
       "<polygon fill=\"none\" stroke=\"black\" points=\"664.5,-36 570.5,-36 570.5,-0 664.5,-0 664.5,-36\"/>\n",
       "<text text-anchor=\"middle\" x=\"617.5\" y=\"-14.3\" font-family=\"Times,serif\" font-size=\"14.00\">leaf=&#45;12.8571</text>\n",
       "</g>\n",
       "<!-- 6&#45;&gt;12 -->\n",
       "<g id=\"edge12\" class=\"edge\"><title>6&#45;&gt;12</title>\n",
       "<path fill=\"none\" stroke=\"#ff0000\" d=\"M562.599,-101.235C571.118,-90.8904 579.862,-79.7535 587.5,-69 592.893,-61.4071 598.284,-52.8141 602.979,-44.9204\"/>\n",
       "<polygon fill=\"#ff0000\" stroke=\"#ff0000\" points=\"606.121,-46.48 608.128,-36.077 600.071,-42.9579 606.121,-46.48\"/>\n",
       "<text text-anchor=\"middle\" x=\"604.5\" y=\"-57.8\" font-family=\"Times,serif\" font-size=\"14.00\">no</text>\n",
       "</g>\n",
       "</g>\n",
       "</svg>\n"
      ],
      "text/plain": [
       "<graphviz.dot.Digraph at 0x7fcab4137c50>"
      ]
     },
     "execution_count": 13,
     "metadata": {},
     "output_type": "execute_result"
    }
   ],
   "source": [
    "xgboost.to_graphviz(booster=model)"
   ]
  },
  {
   "cell_type": "code",
   "execution_count": 14,
   "metadata": {
    "collapsed": true
   },
   "outputs": [],
   "source": [
    "predictions = model.predict(test)"
   ]
  },
  {
   "cell_type": "code",
   "execution_count": 15,
   "metadata": {},
   "outputs": [
    {
     "name": "stdout",
     "output_type": "stream",
     "text": [
      "   PassengerId  Survived\n",
      "0          892         0\n",
      "1          893         1\n",
      "2          894         0\n",
      "3          895         0\n",
      "4          896         1\n"
     ]
    },
    {
     "data": {
      "text/plain": [
       "418"
      ]
     },
     "execution_count": 15,
     "metadata": {},
     "output_type": "execute_result"
    }
   ],
   "source": [
    "output = pd.DataFrame({ 'PassengerId' : ids, 'Survived': predictions })\n",
    "output.to_csv('titanic-predictions.csv', index = False)\n",
    "print(output.head())\n",
    "len(output)"
   ]
  },
  {
   "cell_type": "code",
   "execution_count": null,
   "metadata": {
    "collapsed": true
   },
   "outputs": [],
   "source": []
  }
 ],
 "metadata": {
  "kernelspec": {
   "display_name": "Python 3",
   "language": "python",
   "name": "python3"
  },
  "language_info": {
   "codemirror_mode": {
    "name": "ipython",
    "version": 3
   },
   "file_extension": ".py",
   "mimetype": "text/x-python",
   "name": "python",
   "nbconvert_exporter": "python",
   "pygments_lexer": "ipython3",
   "version": "3.6.1"
  }
 },
 "nbformat": 4,
 "nbformat_minor": 2
}
